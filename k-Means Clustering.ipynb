{
 "cells": [
  {
   "cell_type": "code",
   "execution_count": 1,
   "metadata": {},
   "outputs": [],
   "source": [
    "import pandas as pd\n",
    "import numpy as np\n",
    "import matplotlib.pyplot as plt\n",
    "\n",
    "from IPython.core.interactiveshell import InteractiveShell\n",
    "InteractiveShell.ast_node_interactivity = \"all\""
   ]
  },
  {
   "cell_type": "code",
   "execution_count": 2,
   "metadata": {},
   "outputs": [],
   "source": [
    "clustering = pd.read_csv(\"data.csv\")"
   ]
  },
  {
   "cell_type": "code",
   "execution_count": 3,
   "metadata": {},
   "outputs": [
    {
     "data": {
      "text/html": [
       "<div>\n",
       "<style scoped>\n",
       "    .dataframe tbody tr th:only-of-type {\n",
       "        vertical-align: middle;\n",
       "    }\n",
       "\n",
       "    .dataframe tbody tr th {\n",
       "        vertical-align: top;\n",
       "    }\n",
       "\n",
       "    .dataframe thead th {\n",
       "        text-align: right;\n",
       "    }\n",
       "</style>\n",
       "<table border=\"1\" class=\"dataframe\">\n",
       "  <thead>\n",
       "    <tr style=\"text-align: right;\">\n",
       "      <th></th>\n",
       "      <th>V1</th>\n",
       "      <th>V2</th>\n",
       "    </tr>\n",
       "  </thead>\n",
       "  <tbody>\n",
       "    <tr>\n",
       "      <th>0</th>\n",
       "      <td>2.072345</td>\n",
       "      <td>-3.241693</td>\n",
       "    </tr>\n",
       "    <tr>\n",
       "      <th>1</th>\n",
       "      <td>17.936710</td>\n",
       "      <td>15.784810</td>\n",
       "    </tr>\n",
       "    <tr>\n",
       "      <th>2</th>\n",
       "      <td>1.083576</td>\n",
       "      <td>7.319176</td>\n",
       "    </tr>\n",
       "    <tr>\n",
       "      <th>3</th>\n",
       "      <td>11.120670</td>\n",
       "      <td>14.406780</td>\n",
       "    </tr>\n",
       "    <tr>\n",
       "      <th>4</th>\n",
       "      <td>23.711550</td>\n",
       "      <td>2.557729</td>\n",
       "    </tr>\n",
       "  </tbody>\n",
       "</table>\n",
       "</div>"
      ],
      "text/plain": [
       "          V1         V2\n",
       "0   2.072345  -3.241693\n",
       "1  17.936710  15.784810\n",
       "2   1.083576   7.319176\n",
       "3  11.120670  14.406780\n",
       "4  23.711550   2.557729"
      ]
     },
     "execution_count": 3,
     "metadata": {},
     "output_type": "execute_result"
    }
   ],
   "source": [
    "clustering.head()"
   ]
  },
  {
   "cell_type": "markdown",
   "metadata": {},
   "source": [
    "### 1.Visualize the data using a scatter plot.  From the plot determine an appropriate value of k."
   ]
  },
  {
   "cell_type": "code",
   "execution_count": 4,
   "metadata": {},
   "outputs": [
    {
     "data": {
      "text/plain": [
       "<matplotlib.collections.PathCollection at 0x1f7d32b30b8>"
      ]
     },
     "execution_count": 4,
     "metadata": {},
     "output_type": "execute_result"
    },
    {
     "data": {
      "image/png": "[encoded data removed]",
      "text/plain": [
       "<Figure size 432x288 with 1 Axes>"
      ]
     },
     "metadata": {
      "needs_background": "light"
     },
     "output_type": "display_data"
    }
   ],
   "source": [
    "plt.scatter(clustering['V1'], clustering['V2'], color =\"blue\")\n",
    "plt.show()"
   ]
  },
  {
   "cell_type": "code",
   "execution_count": 5,
   "metadata": {},
   "outputs": [],
   "source": [
    "# From the scatter plot in Out[4] the appropriate k=3."
   ]
  },
  {
   "cell_type": "markdown",
   "metadata": {},
   "source": [
    "### 2. Multiple kMeans models from sklearn library using the            values of k from 1 to 10 \n",
    "### 3. The within sum of squares for each value of k"
   ]
  },
  {
   "cell_type": "code",
   "execution_count": 6,
   "metadata": {},
   "outputs": [],
   "source": [
    "#Import the necessary library from sklearn library\n",
    "from sklearn.cluster import KMeans\n",
    "#the library below is useful as it helps calculate the distance between the data points and their respective centroids. \n",
    "from scipy.spatial.distance import cdist"
   ]
  },
  {
   "cell_type": "code",
   "execution_count": 7,
   "metadata": {},
   "outputs": [
    {
     "name": "stdout",
     "output_type": "stream",
     "text": [
      "WSS values for 1 = [[46.5474565 ]\n",
      " [23.75349018]\n",
      " [42.47386662]\n",
      " ...\n",
      " [41.01383527]\n",
      " [61.19175739]\n",
      " [53.55380939]]\n",
      "WSS values for 2 = [[67.7678564  48.54343985]\n",
      " [57.69168672 24.37922551]\n",
      " [70.59281083 40.47411554]\n",
      " ...\n",
      " [ 5.04149608 61.6361833 ]\n",
      " [21.33973153 81.43602485]\n",
      " [15.47252742 73.78115688]]\n",
      "WSS values for 3 = [[15.7742349  68.19954759 73.8545108 ]\n",
      " [ 9.87655463 58.08388842 49.47082274]\n",
      " [ 9.04449993 71.01508094 65.67785038]\n",
      " ...\n",
      " [58.92797927  5.47219431 74.13522418]\n",
      " [84.42182021 20.90805072 87.65757848]\n",
      " [65.83390192 15.5959933  87.98558269]]\n",
      "WSS values for 4 = [[15.68159075 78.50799069 68.19954759 69.32127685]\n",
      " [ 9.96854778 53.80568071 58.08388842 45.68589386]\n",
      " [ 8.95812487 70.92592365 71.01508094 60.49059987]\n",
      " ...\n",
      " [58.96329997 72.35988881  5.47219431 76.78011682]\n",
      " [84.46519839 83.75565232 20.90805072 92.33377844]\n",
      " [65.85055404 86.51698923 15.5959933  90.1788623 ]]\n",
      "WSS values for 5 = [[15.76519785 71.58914517 74.92504724 62.0819133  76.54295017]\n",
      " [ 9.91841303 48.08664064 66.18815819 50.36788354 51.81899712]\n",
      " [ 8.99512011 62.64827046 78.40123081 64.11588761 69.05563529]\n",
      " ...\n",
      " [58.99448843 79.12606712 12.75949374  6.25368101 70.45091184]\n",
      " [84.48815203 94.36150176 15.3866004  27.75479693 82.22700546]\n",
      " [65.89881462 92.58062403 13.97079885 20.63452319 84.57702982]]\n",
      "WSS values for 6 = [[78.49311345 74.92613549 10.66998249 69.51004223 62.24780007 22.17707165]\n",
      " [53.79096206 66.20855909 18.76171594 45.88686743 50.52488834  2.63413188]\n",
      " [70.91059299 78.41009221  0.10235031 60.66908198 64.28111902 16.70632588]\n",
      " ...\n",
      " [72.35413483 12.77782316 65.78632546 76.98130788  6.23496947 53.55484196]\n",
      " [83.75459519 15.41094538 91.69360793 92.50886985 27.59256079 78.4772781 ]\n",
      " [86.51076708 13.92711077 71.4250521  90.38459842 20.61685418 61.68620273]]\n",
      "WSS values for 7 = [[76.84471752 10.8719144  69.74493846 ... 83.72392147 22.30309112\n",
      "  68.83606281]\n",
      " [65.92642346 18.45688135 46.4944373  ... 59.25688894  2.55540213\n",
      "  44.06622474]\n",
      " [79.44343994  0.42127843 60.67067998 ... 75.59791145 16.90785588\n",
      "  61.71641245]\n",
      " ...\n",
      " [14.16571256 65.62415528 79.17048505 ... 80.04851111 53.3340892\n",
      "  63.55210416]\n",
      " [12.31419121 91.51522415 95.00732607 ... 91.12831956 78.24887184\n",
      "  77.06930424]\n",
      " [20.26943039 71.31866538 92.47244934 ... 94.20076625 61.48519388\n",
      "  77.49514643]]\n",
      "WSS values for 8 = [[69.74181238 61.78155157 12.76285005 ... 83.78951208 79.3402619\n",
      "  21.46870538]\n",
      " [46.51777474 55.59632394 17.98233605 ... 59.32340361 69.25187368\n",
      "   4.00636784]\n",
      " [60.65276578 66.03651946  2.16449475 ... 75.66167113 82.31794154\n",
      "  16.89904835]\n",
      " ...\n",
      " [79.30187499  7.92279613 66.44742229 ... 80.1080225  16.54718421\n",
      "  52.11414964]\n",
      " [95.16294138 29.24866784 92.22710614 ... 91.17630637 10.01367368\n",
      "  77.19978844]\n",
      " [92.59609982  7.39094782 72.45159237 ... 94.2612308  19.63674717\n",
      "  60.02909518]]\n",
      "WSS values for 9 = [[69.86529959 65.17246953  8.92127555 ... 79.16625725 68.86515378\n",
      "  25.46380924]\n",
      " [46.61262553 51.78940406 20.65901959 ... 69.15732277 44.09573164\n",
      "   9.36718976]\n",
      " [60.79107517 66.52676553  2.13819175 ... 82.17501073 61.73818705\n",
      "  16.32216757]\n",
      " ...\n",
      " [79.24470043 10.59044735 66.36027913 ... 16.38533037 63.61738911\n",
      "  62.79007434]\n",
      " [95.05652801 26.42393269 92.38480235 ... 10.24002108 77.13386033\n",
      "  87.17898096]\n",
      " [92.55256544 24.72036495 71.57146564 ... 19.34821832 77.55992841\n",
      "  71.4001496 ]]\n",
      "WSS values for 10 = [[ 24.86984459  79.3402619   63.70679998 ...  76.56261562  83.64087586\n",
      "   65.08954173]\n",
      " [ 10.74963942  69.25187368  39.63940091 ...  53.55025773  59.1289437\n",
      "   51.71363757]\n",
      " [ 15.35410502  82.31794154  55.28271103 ...  67.30158877  75.58836029\n",
      "   66.44571578]\n",
      " ...\n",
      " [ 64.18634279  16.54718421  70.35707294 ...  85.3596645   79.38805057\n",
      "   10.56096424]\n",
      " [ 88.68469355  10.01367368  86.68671435 ... 100.17466825  90.34364175\n",
      "   26.49353557]\n",
      " [ 72.61680818  19.63674717  83.62240703 ...  98.86044673  93.55628802\n",
      "   24.70394632]]\n"
     ]
    }
   ],
   "source": [
    "#We first need to redefine the data as numpy arrays in a list.\n",
    "data = np.array(list(zip(clustering.V1, clustering.V2))).reshape(len(clustering.V1), 2)\n",
    "\n",
    "#Here we get the centres for the different k values(1-10).\n",
    "clusters =range(1,11)\n",
    "\n",
    "#Below is an empty list that will contain the centroids for each k value (1-10)\n",
    "wss_values =[] \n",
    "\n",
    "#The loop below does a few this:\n",
    "for i in clusters: \n",
    "    #1.Fits the data into 10 clusters meaning 10 k-values\n",
    "    kmeans = KMeans(n_clusters = i, init= 'k-means++')\n",
    "    kmeans = kmeans.fit(data)\n",
    "    \n",
    "    #2.Using the cdist function, calculates the distance for each k-value between each datapoint and the centroids using the euclidean distance formula embedded in the library.\n",
    "    wss_for_each_K = cdist(data, kmeans.cluster_centers_, 'euclidean')\n",
    "    \n",
    "    #3.From the distances gotten above using the cdist function.\n",
    "    #The minimum value under each datapoint is selected as it classifies the datapoint to which cluster it belongs.\n",
    "    #It then calculates the summation which gives you the within-sum of squares(distance)\n",
    "    distance= sum(np.min( wss_for_each_K,axis=1))\n",
    "    \n",
    "    #4.The line below adds the wss for each datapoint to the empty list created at the beginning and print each of that.\n",
    "    wss_values.append(distance)\n",
    "    print(\"WSS values for {}\". format(i), \"=\", wss_for_each_K)"
   ]
  },
  {
   "cell_type": "markdown",
   "metadata": {},
   "source": [
    "### 4. Use the value in 3 above to determine the most suitable value for k using the elbow method"
   ]
  },
  {
   "cell_type": "code",
   "execution_count": 8,
   "metadata": {},
   "outputs": [
    {
     "data": {
      "text/plain": [
       "[<matplotlib.lines.Line2D at 0x1f7d5a1f4a8>]"
      ]
     },
     "execution_count": 8,
     "metadata": {},
     "output_type": "execute_result"
    },
    {
     "data": {
      "text/plain": [
       "Text(0.5, 1.0, 'The Elbow Graph showing the optimal K value')"
      ]
     },
     "execution_count": 8,
     "metadata": {},
     "output_type": "execute_result"
    },
    {
     "data": {
      "text/plain": [
       "Text(0.5, 0, 'K values')"
      ]
     },
     "execution_count": 8,
     "metadata": {},
     "output_type": "execute_result"
    },
    {
     "data": {
      "text/plain": [
       "Text(0, 0.5, 'WSS Values')"
      ]
     },
     "execution_count": 8,
     "metadata": {},
     "output_type": "execute_result"
    },
    {
     "data": {
      "image/png": "[encoded data removed]",
      "text/plain": [
       "<Figure size 432x288 with 1 Axes>"
      ]
     },
     "metadata": {
      "needs_background": "light"
     },
     "output_type": "display_data"
    }
   ],
   "source": [
    "#The code below draws an elbow graph which shows the optimal k for this dataset to be used.\n",
    "#It takes the value calculated distance in In[7] which is the sum for all the minimum wss' for all datapoints in the dataset.\n",
    "plt.plot(clusters, wss_values, 'rx', ls ='solid' )\n",
    "plt.title(\"The Elbow Graph showing the optimal K value\")\n",
    "plt.xlabel(\"K values\")\n",
    "plt.ylabel(\"WSS Values\")\n",
    "plt.show()"
   ]
  },
  {
   "cell_type": "markdown",
   "metadata": {},
   "source": [
    "#### From the above Elbow Graph, the optimal k=3 since the curve bends between 2 and 4."
   ]
  },
  {
   "cell_type": "markdown",
   "metadata": {},
   "source": [
    "### 5. Use the k above to create a final kMeans model using the sklearn library"
   ]
  },
  {
   "cell_type": "code",
   "execution_count": 9,
   "metadata": {},
   "outputs": [],
   "source": [
    "# the code below creates a KMean model using the values calculated above.\n",
    "kmeans = KMeans(n_clusters = 3, init= 'k-means++', max_iter = 200)\n",
    "kmeans = kmeans.fit(data)\n",
    "centers= kmeans.cluster_centers_\n",
    "predictions =kmeans.predict(data) "
   ]
  },
  {
   "cell_type": "markdown",
   "metadata": {},
   "source": [
    "### 6. Visualize the clusters from 5 above using a scatter plot. Ensure to show the clusters, their centroids and assignment of each point to a cluster. \n",
    "\n",
    "\t"
   ]
  },
  {
   "cell_type": "code",
   "execution_count": 10,
   "metadata": {},
   "outputs": [
    {
     "data": {
      "image/png": "[encoded data removed]",
      "text/plain": [
       "<Figure size 432x288 with 1 Axes>"
      ]
     },
     "metadata": {
      "needs_background": "light"
     },
     "output_type": "display_data"
    }
   ],
   "source": [
    "#From the image below the stars are the centroids for each cluster and the different clusters have been color-coded to show different clusters.\n",
    "plt.scatter(data[:, 0], data[:, 1], c=predictions, s=50, cmap='plasma')\n",
    "plt.scatter(centers[:, 0], centers[:, 1], c='green', s=150, alpha=0.5, marker= '*');"
   ]
  }
 ],
 "metadata": {
  "kernelspec": {
   "display_name": "Python 3",
   "language": "python",
   "name": "python3"
  },
  "language_info": {
   "codemirror_mode": {
    "name": "ipython",
    "version": 3
   },
   "file_extension": ".py",
   "mimetype": "text/x-python",
   "name": "python",
   "nbconvert_exporter": "python",
   "pygments_lexer": "ipython3",
   "version": "3.7.1"
  }
 },
 "nbformat": 4,
 "nbformat_minor": 2
}
